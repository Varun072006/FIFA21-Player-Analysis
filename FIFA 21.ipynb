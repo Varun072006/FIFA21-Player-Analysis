{
 "cells": [
  {
   "cell_type": "markdown",
   "metadata": {
    "id": "6aAZ0Lein7aP"
   },
   "source": [
    "TASK-1"
   ]
  },
  {
   "cell_type": "code",
   "execution_count": 7,
   "metadata": {
    "executionInfo": {
     "elapsed": 287,
     "status": "ok",
     "timestamp": 1755143102627,
     "user": {
      "displayName": "VARUN S",
      "userId": "07484574055160433843"
     },
     "user_tz": -330
    },
    "id": "JF9iwOxrdR2H"
   },
   "outputs": [],
   "source": [
    "import numpy as np\n",
    "import matplotlib.pyplot as plt\n",
    "import pandas as pd\n",
    "import seaborn as sns\n",
    "\n",
    "df = pd.read_csv('players_21.csv')"
   ]
  },
  {
   "cell_type": "code",
   "execution_count": 8,
   "metadata": {
    "colab": {
     "base_uri": "https://localhost:8080/",
     "height": 707
    },
    "executionInfo": {
     "elapsed": 57,
     "status": "ok",
     "timestamp": 1755143102677,
     "user": {
      "displayName": "VARUN S",
      "userId": "07484574055160433843"
     },
     "user_tz": -330
    },
    "id": "r7jwPZJxeYae",
    "outputId": "8c5a41a1-75d4-4c75-91b0-54cfa8ef305a"
   },
   "outputs": [
    {
     "data": {
      "text/html": [
       "<div>\n",
       "<style scoped>\n",
       "    .dataframe tbody tr th:only-of-type {\n",
       "        vertical-align: middle;\n",
       "    }\n",
       "\n",
       "    .dataframe tbody tr th {\n",
       "        vertical-align: top;\n",
       "    }\n",
       "\n",
       "    .dataframe thead th {\n",
       "        text-align: right;\n",
       "    }\n",
       "</style>\n",
       "<table border=\"1\" class=\"dataframe\">\n",
       "  <thead>\n",
       "    <tr style=\"text-align: right;\">\n",
       "      <th></th>\n",
       "      <th>sofifa_id</th>\n",
       "      <th>player_url</th>\n",
       "      <th>short_name</th>\n",
       "      <th>long_name</th>\n",
       "      <th>age</th>\n",
       "      <th>dob</th>\n",
       "      <th>height_cm</th>\n",
       "      <th>weight_kg</th>\n",
       "      <th>nationality</th>\n",
       "      <th>club_name</th>\n",
       "      <th>...</th>\n",
       "      <th>lwb</th>\n",
       "      <th>ldm</th>\n",
       "      <th>cdm</th>\n",
       "      <th>rdm</th>\n",
       "      <th>rwb</th>\n",
       "      <th>lb</th>\n",
       "      <th>lcb</th>\n",
       "      <th>cb</th>\n",
       "      <th>rcb</th>\n",
       "      <th>rb</th>\n",
       "    </tr>\n",
       "  </thead>\n",
       "  <tbody>\n",
       "    <tr>\n",
       "      <th>0</th>\n",
       "      <td>158023</td>\n",
       "      <td>https://sofifa.com/player/158023/lionel-messi/...</td>\n",
       "      <td>L. Messi</td>\n",
       "      <td>Lionel Andrés Messi Cuccittini</td>\n",
       "      <td>33</td>\n",
       "      <td>1987-06-24</td>\n",
       "      <td>170</td>\n",
       "      <td>72</td>\n",
       "      <td>Argentina</td>\n",
       "      <td>FC Barcelona</td>\n",
       "      <td>...</td>\n",
       "      <td>66+3</td>\n",
       "      <td>65+3</td>\n",
       "      <td>65+3</td>\n",
       "      <td>65+3</td>\n",
       "      <td>66+3</td>\n",
       "      <td>62+3</td>\n",
       "      <td>52+3</td>\n",
       "      <td>52+3</td>\n",
       "      <td>52+3</td>\n",
       "      <td>62+3</td>\n",
       "    </tr>\n",
       "    <tr>\n",
       "      <th>1</th>\n",
       "      <td>20801</td>\n",
       "      <td>https://sofifa.com/player/20801/c-ronaldo-dos-...</td>\n",
       "      <td>Cristiano Ronaldo</td>\n",
       "      <td>Cristiano Ronaldo dos Santos Aveiro</td>\n",
       "      <td>35</td>\n",
       "      <td>1985-02-05</td>\n",
       "      <td>187</td>\n",
       "      <td>83</td>\n",
       "      <td>Portugal</td>\n",
       "      <td>Juventus</td>\n",
       "      <td>...</td>\n",
       "      <td>65+3</td>\n",
       "      <td>61+3</td>\n",
       "      <td>61+3</td>\n",
       "      <td>61+3</td>\n",
       "      <td>65+3</td>\n",
       "      <td>61+3</td>\n",
       "      <td>54+3</td>\n",
       "      <td>54+3</td>\n",
       "      <td>54+3</td>\n",
       "      <td>61+3</td>\n",
       "    </tr>\n",
       "    <tr>\n",
       "      <th>2</th>\n",
       "      <td>200389</td>\n",
       "      <td>https://sofifa.com/player/200389/jan-oblak/210002</td>\n",
       "      <td>J. Oblak</td>\n",
       "      <td>Jan Oblak</td>\n",
       "      <td>27</td>\n",
       "      <td>1993-01-07</td>\n",
       "      <td>188</td>\n",
       "      <td>87</td>\n",
       "      <td>Slovenia</td>\n",
       "      <td>Atlético Madrid</td>\n",
       "      <td>...</td>\n",
       "      <td>32+3</td>\n",
       "      <td>36+3</td>\n",
       "      <td>36+3</td>\n",
       "      <td>36+3</td>\n",
       "      <td>32+3</td>\n",
       "      <td>32+3</td>\n",
       "      <td>33+3</td>\n",
       "      <td>33+3</td>\n",
       "      <td>33+3</td>\n",
       "      <td>32+3</td>\n",
       "    </tr>\n",
       "    <tr>\n",
       "      <th>3</th>\n",
       "      <td>188545</td>\n",
       "      <td>https://sofifa.com/player/188545/robert-lewand...</td>\n",
       "      <td>R. Lewandowski</td>\n",
       "      <td>Robert Lewandowski</td>\n",
       "      <td>31</td>\n",
       "      <td>1988-08-21</td>\n",
       "      <td>184</td>\n",
       "      <td>80</td>\n",
       "      <td>Poland</td>\n",
       "      <td>FC Bayern München</td>\n",
       "      <td>...</td>\n",
       "      <td>64+3</td>\n",
       "      <td>65+3</td>\n",
       "      <td>65+3</td>\n",
       "      <td>65+3</td>\n",
       "      <td>64+3</td>\n",
       "      <td>61+3</td>\n",
       "      <td>60+3</td>\n",
       "      <td>60+3</td>\n",
       "      <td>60+3</td>\n",
       "      <td>61+3</td>\n",
       "    </tr>\n",
       "    <tr>\n",
       "      <th>4</th>\n",
       "      <td>190871</td>\n",
       "      <td>https://sofifa.com/player/190871/neymar-da-sil...</td>\n",
       "      <td>Neymar Jr</td>\n",
       "      <td>Neymar da Silva Santos Júnior</td>\n",
       "      <td>28</td>\n",
       "      <td>1992-02-05</td>\n",
       "      <td>175</td>\n",
       "      <td>68</td>\n",
       "      <td>Brazil</td>\n",
       "      <td>Paris Saint-Germain</td>\n",
       "      <td>...</td>\n",
       "      <td>67+3</td>\n",
       "      <td>62+3</td>\n",
       "      <td>62+3</td>\n",
       "      <td>62+3</td>\n",
       "      <td>67+3</td>\n",
       "      <td>62+3</td>\n",
       "      <td>49+3</td>\n",
       "      <td>49+3</td>\n",
       "      <td>49+3</td>\n",
       "      <td>62+3</td>\n",
       "    </tr>\n",
       "    <tr>\n",
       "      <th>5</th>\n",
       "      <td>192985</td>\n",
       "      <td>https://sofifa.com/player/192985/kevin-de-bruy...</td>\n",
       "      <td>K. De Bruyne</td>\n",
       "      <td>Kevin De Bruyne</td>\n",
       "      <td>29</td>\n",
       "      <td>1991-06-28</td>\n",
       "      <td>181</td>\n",
       "      <td>70</td>\n",
       "      <td>Belgium</td>\n",
       "      <td>Manchester City</td>\n",
       "      <td>...</td>\n",
       "      <td>79+3</td>\n",
       "      <td>80+3</td>\n",
       "      <td>80+3</td>\n",
       "      <td>80+3</td>\n",
       "      <td>79+3</td>\n",
       "      <td>75+3</td>\n",
       "      <td>69+3</td>\n",
       "      <td>69+3</td>\n",
       "      <td>69+3</td>\n",
       "      <td>75+3</td>\n",
       "    </tr>\n",
       "    <tr>\n",
       "      <th>6</th>\n",
       "      <td>231747</td>\n",
       "      <td>https://sofifa.com/player/231747/kylian-mbappe...</td>\n",
       "      <td>K. Mbappé</td>\n",
       "      <td>Kylian Mbappé Lottin</td>\n",
       "      <td>21</td>\n",
       "      <td>1998-12-20</td>\n",
       "      <td>178</td>\n",
       "      <td>73</td>\n",
       "      <td>France</td>\n",
       "      <td>Paris Saint-Germain</td>\n",
       "      <td>...</td>\n",
       "      <td>67+3</td>\n",
       "      <td>63+3</td>\n",
       "      <td>63+3</td>\n",
       "      <td>63+3</td>\n",
       "      <td>67+3</td>\n",
       "      <td>63+3</td>\n",
       "      <td>55+3</td>\n",
       "      <td>55+3</td>\n",
       "      <td>55+3</td>\n",
       "      <td>63+3</td>\n",
       "    </tr>\n",
       "    <tr>\n",
       "      <th>7</th>\n",
       "      <td>192448</td>\n",
       "      <td>https://sofifa.com/player/192448/marc-andre-te...</td>\n",
       "      <td>M. ter Stegen</td>\n",
       "      <td>Marc-André ter Stegen</td>\n",
       "      <td>28</td>\n",
       "      <td>1992-04-30</td>\n",
       "      <td>187</td>\n",
       "      <td>85</td>\n",
       "      <td>Germany</td>\n",
       "      <td>FC Barcelona</td>\n",
       "      <td>...</td>\n",
       "      <td>33+3</td>\n",
       "      <td>41+3</td>\n",
       "      <td>41+3</td>\n",
       "      <td>41+3</td>\n",
       "      <td>33+3</td>\n",
       "      <td>31+3</td>\n",
       "      <td>33+3</td>\n",
       "      <td>33+3</td>\n",
       "      <td>33+3</td>\n",
       "      <td>31+3</td>\n",
       "    </tr>\n",
       "    <tr>\n",
       "      <th>8</th>\n",
       "      <td>203376</td>\n",
       "      <td>https://sofifa.com/player/203376/virgil-van-di...</td>\n",
       "      <td>V. van Dijk</td>\n",
       "      <td>Virgil van Dijk</td>\n",
       "      <td>28</td>\n",
       "      <td>1991-07-08</td>\n",
       "      <td>193</td>\n",
       "      <td>92</td>\n",
       "      <td>Netherlands</td>\n",
       "      <td>Liverpool</td>\n",
       "      <td>...</td>\n",
       "      <td>80+3</td>\n",
       "      <td>85+3</td>\n",
       "      <td>85+3</td>\n",
       "      <td>85+3</td>\n",
       "      <td>80+3</td>\n",
       "      <td>82+3</td>\n",
       "      <td>89+2</td>\n",
       "      <td>89+2</td>\n",
       "      <td>89+2</td>\n",
       "      <td>82+3</td>\n",
       "    </tr>\n",
       "    <tr>\n",
       "      <th>9</th>\n",
       "      <td>212831</td>\n",
       "      <td>https://sofifa.com/player/212831/alisson-ramse...</td>\n",
       "      <td>Alisson</td>\n",
       "      <td>Alisson Ramsés Becker</td>\n",
       "      <td>27</td>\n",
       "      <td>1992-10-02</td>\n",
       "      <td>191</td>\n",
       "      <td>91</td>\n",
       "      <td>Brazil</td>\n",
       "      <td>Liverpool</td>\n",
       "      <td>...</td>\n",
       "      <td>31+3</td>\n",
       "      <td>35+3</td>\n",
       "      <td>35+3</td>\n",
       "      <td>35+3</td>\n",
       "      <td>31+3</td>\n",
       "      <td>30+3</td>\n",
       "      <td>30+3</td>\n",
       "      <td>30+3</td>\n",
       "      <td>30+3</td>\n",
       "      <td>30+3</td>\n",
       "    </tr>\n",
       "  </tbody>\n",
       "</table>\n",
       "<p>10 rows × 106 columns</p>\n",
       "</div>"
      ],
      "text/plain": [
       "   sofifa_id                                         player_url  \\\n",
       "0     158023  https://sofifa.com/player/158023/lionel-messi/...   \n",
       "1      20801  https://sofifa.com/player/20801/c-ronaldo-dos-...   \n",
       "2     200389  https://sofifa.com/player/200389/jan-oblak/210002   \n",
       "3     188545  https://sofifa.com/player/188545/robert-lewand...   \n",
       "4     190871  https://sofifa.com/player/190871/neymar-da-sil...   \n",
       "5     192985  https://sofifa.com/player/192985/kevin-de-bruy...   \n",
       "6     231747  https://sofifa.com/player/231747/kylian-mbappe...   \n",
       "7     192448  https://sofifa.com/player/192448/marc-andre-te...   \n",
       "8     203376  https://sofifa.com/player/203376/virgil-van-di...   \n",
       "9     212831  https://sofifa.com/player/212831/alisson-ramse...   \n",
       "\n",
       "          short_name                            long_name  age         dob  \\\n",
       "0           L. Messi       Lionel Andrés Messi Cuccittini   33  1987-06-24   \n",
       "1  Cristiano Ronaldo  Cristiano Ronaldo dos Santos Aveiro   35  1985-02-05   \n",
       "2           J. Oblak                            Jan Oblak   27  1993-01-07   \n",
       "3     R. Lewandowski                   Robert Lewandowski   31  1988-08-21   \n",
       "4          Neymar Jr        Neymar da Silva Santos Júnior   28  1992-02-05   \n",
       "5       K. De Bruyne                      Kevin De Bruyne   29  1991-06-28   \n",
       "6          K. Mbappé                 Kylian Mbappé Lottin   21  1998-12-20   \n",
       "7      M. ter Stegen                Marc-André ter Stegen   28  1992-04-30   \n",
       "8        V. van Dijk                      Virgil van Dijk   28  1991-07-08   \n",
       "9            Alisson                Alisson Ramsés Becker   27  1992-10-02   \n",
       "\n",
       "   height_cm  weight_kg  nationality            club_name  ...   lwb   ldm  \\\n",
       "0        170         72    Argentina         FC Barcelona  ...  66+3  65+3   \n",
       "1        187         83     Portugal             Juventus  ...  65+3  61+3   \n",
       "2        188         87     Slovenia      Atlético Madrid  ...  32+3  36+3   \n",
       "3        184         80       Poland    FC Bayern München  ...  64+3  65+3   \n",
       "4        175         68       Brazil  Paris Saint-Germain  ...  67+3  62+3   \n",
       "5        181         70      Belgium      Manchester City  ...  79+3  80+3   \n",
       "6        178         73       France  Paris Saint-Germain  ...  67+3  63+3   \n",
       "7        187         85      Germany         FC Barcelona  ...  33+3  41+3   \n",
       "8        193         92  Netherlands            Liverpool  ...  80+3  85+3   \n",
       "9        191         91       Brazil            Liverpool  ...  31+3  35+3   \n",
       "\n",
       "    cdm   rdm   rwb    lb   lcb    cb   rcb    rb  \n",
       "0  65+3  65+3  66+3  62+3  52+3  52+3  52+3  62+3  \n",
       "1  61+3  61+3  65+3  61+3  54+3  54+3  54+3  61+3  \n",
       "2  36+3  36+3  32+3  32+3  33+3  33+3  33+3  32+3  \n",
       "3  65+3  65+3  64+3  61+3  60+3  60+3  60+3  61+3  \n",
       "4  62+3  62+3  67+3  62+3  49+3  49+3  49+3  62+3  \n",
       "5  80+3  80+3  79+3  75+3  69+3  69+3  69+3  75+3  \n",
       "6  63+3  63+3  67+3  63+3  55+3  55+3  55+3  63+3  \n",
       "7  41+3  41+3  33+3  31+3  33+3  33+3  33+3  31+3  \n",
       "8  85+3  85+3  80+3  82+3  89+2  89+2  89+2  82+3  \n",
       "9  35+3  35+3  31+3  30+3  30+3  30+3  30+3  30+3  \n",
       "\n",
       "[10 rows x 106 columns]"
      ]
     },
     "execution_count": 8,
     "metadata": {},
     "output_type": "execute_result"
    }
   ],
   "source": [
    "df.head(10)"
   ]
  },
  {
   "cell_type": "code",
   "execution_count": 9,
   "metadata": {
    "colab": {
     "base_uri": "https://localhost:8080/"
    },
    "executionInfo": {
     "elapsed": 22,
     "status": "ok",
     "timestamp": 1755143102704,
     "user": {
      "displayName": "VARUN S",
      "userId": "07484574055160433843"
     },
     "user_tz": -330
    },
    "id": "mvPRv_JxebEw",
    "outputId": "6c95d90c-e2e1-49db-e67e-aeb37f8d756d"
   },
   "outputs": [
    {
     "data": {
      "text/plain": [
       "(18944, 106)"
      ]
     },
     "execution_count": 9,
     "metadata": {},
     "output_type": "execute_result"
    }
   ],
   "source": [
    "df.shape"
   ]
  },
  {
   "cell_type": "code",
   "execution_count": 10,
   "metadata": {
    "colab": {
     "base_uri": "https://localhost:8080/"
    },
    "executionInfo": {
     "elapsed": 12,
     "status": "ok",
     "timestamp": 1755143102718,
     "user": {
      "displayName": "VARUN S",
      "userId": "07484574055160433843"
     },
     "user_tz": -330
    },
    "id": "Run56p6HfsxS",
    "outputId": "8df440e4-1652-497a-f7f8-eaa4820dee7b"
   },
   "outputs": [
    {
     "data": {
      "text/plain": [
       "Index(['sofifa_id', 'player_url', 'short_name', 'long_name', 'age', 'dob',\n",
       "       'height_cm', 'weight_kg', 'nationality', 'club_name',\n",
       "       ...\n",
       "       'lwb', 'ldm', 'cdm', 'rdm', 'rwb', 'lb', 'lcb', 'cb', 'rcb', 'rb'],\n",
       "      dtype='object', length=106)"
      ]
     },
     "execution_count": 10,
     "metadata": {},
     "output_type": "execute_result"
    }
   ],
   "source": [
    "df.columns"
   ]
  },
  {
   "cell_type": "code",
   "execution_count": 11,
   "metadata": {
    "colab": {
     "base_uri": "https://localhost:8080/",
     "height": 458
    },
    "executionInfo": {
     "elapsed": 8,
     "status": "ok",
     "timestamp": 1755143102728,
     "user": {
      "displayName": "VARUN S",
      "userId": "07484574055160433843"
     },
     "user_tz": -330
    },
    "id": "pUmfKMPofvdz",
    "outputId": "623bd78b-f8e7-4388-bb07-68c8bcb7af27"
   },
   "outputs": [
    {
     "data": {
      "text/plain": [
       "sofifa_id      int64\n",
       "player_url    object\n",
       "short_name    object\n",
       "long_name     object\n",
       "age            int64\n",
       "               ...  \n",
       "lb            object\n",
       "lcb           object\n",
       "cb            object\n",
       "rcb           object\n",
       "rb            object\n",
       "Length: 106, dtype: object"
      ]
     },
     "execution_count": 11,
     "metadata": {},
     "output_type": "execute_result"
    }
   ],
   "source": [
    "df.dtypes"
   ]
  },
  {
   "cell_type": "code",
   "execution_count": 12,
   "metadata": {
    "colab": {
     "base_uri": "https://localhost:8080/",
     "height": 458
    },
    "executionInfo": {
     "elapsed": 8,
     "status": "ok",
     "timestamp": 1755143102739,
     "user": {
      "displayName": "VARUN S",
      "userId": "07484574055160433843"
     },
     "user_tz": -330
    },
    "id": "2tXCoNjOfzmu",
    "outputId": "1fba1fa0-8563-481e-cb5a-3dd17bd9492d"
   },
   "outputs": [
    {
     "data": {
      "text/plain": [
       "sofifa_id     0\n",
       "player_url    0\n",
       "short_name    0\n",
       "long_name     0\n",
       "age           0\n",
       "             ..\n",
       "lb            0\n",
       "lcb           0\n",
       "cb            0\n",
       "rcb           0\n",
       "rb            0\n",
       "Length: 106, dtype: int64"
      ]
     },
     "execution_count": 12,
     "metadata": {},
     "output_type": "execute_result"
    }
   ],
   "source": [
    "df.isna().sum()"
   ]
  },
  {
   "cell_type": "code",
   "execution_count": 13,
   "metadata": {
    "colab": {
     "base_uri": "https://localhost:8080/"
    },
    "executionInfo": {
     "elapsed": 54,
     "status": "ok",
     "timestamp": 1755143102799,
     "user": {
      "displayName": "VARUN S",
      "userId": "07484574055160433843"
     },
     "user_tz": -330
    },
    "id": "Pnj6AnsYf4fz",
    "outputId": "37ba53ae-ce0e-4319-bfd0-5db33ab0575b"
   },
   "outputs": [
    {
     "data": {
      "text/plain": [
       "np.int64(0)"
      ]
     },
     "execution_count": 13,
     "metadata": {},
     "output_type": "execute_result"
    }
   ],
   "source": [
    "df.duplicated().sum()"
   ]
  },
  {
   "cell_type": "code",
   "execution_count": 14,
   "metadata": {
    "colab": {
     "base_uri": "https://localhost:8080/",
     "height": 349
    },
    "executionInfo": {
     "elapsed": 77,
     "status": "ok",
     "timestamp": 1755143102870,
     "user": {
      "displayName": "VARUN S",
      "userId": "07484574055160433843"
     },
     "user_tz": -330
    },
    "id": "i9aZzoELf7wm",
    "outputId": "3922d33d-c501-4b28-bc9f-4389a2ae273d"
   },
   "outputs": [
    {
     "data": {
      "text/html": [
       "<div>\n",
       "<style scoped>\n",
       "    .dataframe tbody tr th:only-of-type {\n",
       "        vertical-align: middle;\n",
       "    }\n",
       "\n",
       "    .dataframe tbody tr th {\n",
       "        vertical-align: top;\n",
       "    }\n",
       "\n",
       "    .dataframe thead th {\n",
       "        text-align: right;\n",
       "    }\n",
       "</style>\n",
       "<table border=\"1\" class=\"dataframe\">\n",
       "  <thead>\n",
       "    <tr style=\"text-align: right;\">\n",
       "      <th></th>\n",
       "      <th>sofifa_id</th>\n",
       "      <th>age</th>\n",
       "      <th>height_cm</th>\n",
       "      <th>weight_kg</th>\n",
       "      <th>league_rank</th>\n",
       "      <th>overall</th>\n",
       "      <th>potential</th>\n",
       "      <th>value_eur</th>\n",
       "      <th>wage_eur</th>\n",
       "      <th>international_reputation</th>\n",
       "      <th>...</th>\n",
       "      <th>mentality_penalties</th>\n",
       "      <th>mentality_composure</th>\n",
       "      <th>defending_marking</th>\n",
       "      <th>defending_standing_tackle</th>\n",
       "      <th>defending_sliding_tackle</th>\n",
       "      <th>goalkeeping_diving</th>\n",
       "      <th>goalkeeping_handling</th>\n",
       "      <th>goalkeeping_kicking</th>\n",
       "      <th>goalkeeping_positioning</th>\n",
       "      <th>goalkeeping_reflexes</th>\n",
       "    </tr>\n",
       "  </thead>\n",
       "  <tbody>\n",
       "    <tr>\n",
       "      <th>count</th>\n",
       "      <td>18944.000000</td>\n",
       "      <td>18944.000000</td>\n",
       "      <td>18944.000000</td>\n",
       "      <td>18944.000000</td>\n",
       "      <td>18719.000000</td>\n",
       "      <td>18944.000000</td>\n",
       "      <td>18944.000000</td>\n",
       "      <td>1.894400e+04</td>\n",
       "      <td>18944.000000</td>\n",
       "      <td>18944.000000</td>\n",
       "      <td>...</td>\n",
       "      <td>18944.000000</td>\n",
       "      <td>18944.000000</td>\n",
       "      <td>0.0</td>\n",
       "      <td>18944.000000</td>\n",
       "      <td>18944.000000</td>\n",
       "      <td>18944.000000</td>\n",
       "      <td>18944.000000</td>\n",
       "      <td>18944.000000</td>\n",
       "      <td>18944.000000</td>\n",
       "      <td>18944.000000</td>\n",
       "    </tr>\n",
       "    <tr>\n",
       "      <th>mean</th>\n",
       "      <td>226242.402872</td>\n",
       "      <td>25.225823</td>\n",
       "      <td>181.190773</td>\n",
       "      <td>75.016892</td>\n",
       "      <td>1.357070</td>\n",
       "      <td>65.677787</td>\n",
       "      <td>71.086729</td>\n",
       "      <td>2.224813e+06</td>\n",
       "      <td>8675.852513</td>\n",
       "      <td>1.091850</td>\n",
       "      <td>...</td>\n",
       "      <td>48.050412</td>\n",
       "      <td>57.978674</td>\n",
       "      <td>NaN</td>\n",
       "      <td>47.581767</td>\n",
       "      <td>45.546505</td>\n",
       "      <td>16.446052</td>\n",
       "      <td>16.236486</td>\n",
       "      <td>16.103357</td>\n",
       "      <td>16.225982</td>\n",
       "      <td>16.551309</td>\n",
       "    </tr>\n",
       "    <tr>\n",
       "      <th>std</th>\n",
       "      <td>27171.091056</td>\n",
       "      <td>4.697354</td>\n",
       "      <td>6.825672</td>\n",
       "      <td>7.057140</td>\n",
       "      <td>0.739327</td>\n",
       "      <td>7.002278</td>\n",
       "      <td>6.109985</td>\n",
       "      <td>5.102486e+06</td>\n",
       "      <td>19654.774894</td>\n",
       "      <td>0.361841</td>\n",
       "      <td>...</td>\n",
       "      <td>15.671721</td>\n",
       "      <td>12.118390</td>\n",
       "      <td>NaN</td>\n",
       "      <td>21.402461</td>\n",
       "      <td>20.953997</td>\n",
       "      <td>17.577332</td>\n",
       "      <td>16.845480</td>\n",
       "      <td>16.519399</td>\n",
       "      <td>17.017341</td>\n",
       "      <td>17.878121</td>\n",
       "    </tr>\n",
       "    <tr>\n",
       "      <th>min</th>\n",
       "      <td>41.000000</td>\n",
       "      <td>16.000000</td>\n",
       "      <td>155.000000</td>\n",
       "      <td>50.000000</td>\n",
       "      <td>1.000000</td>\n",
       "      <td>47.000000</td>\n",
       "      <td>47.000000</td>\n",
       "      <td>0.000000e+00</td>\n",
       "      <td>0.000000</td>\n",
       "      <td>1.000000</td>\n",
       "      <td>...</td>\n",
       "      <td>6.000000</td>\n",
       "      <td>12.000000</td>\n",
       "      <td>NaN</td>\n",
       "      <td>5.000000</td>\n",
       "      <td>4.000000</td>\n",
       "      <td>1.000000</td>\n",
       "      <td>1.000000</td>\n",
       "      <td>1.000000</td>\n",
       "      <td>1.000000</td>\n",
       "      <td>1.000000</td>\n",
       "    </tr>\n",
       "    <tr>\n",
       "      <th>25%</th>\n",
       "      <td>210030.500000</td>\n",
       "      <td>21.000000</td>\n",
       "      <td>176.000000</td>\n",
       "      <td>70.000000</td>\n",
       "      <td>1.000000</td>\n",
       "      <td>61.000000</td>\n",
       "      <td>67.000000</td>\n",
       "      <td>3.000000e+05</td>\n",
       "      <td>1000.000000</td>\n",
       "      <td>1.000000</td>\n",
       "      <td>...</td>\n",
       "      <td>38.750000</td>\n",
       "      <td>50.000000</td>\n",
       "      <td>NaN</td>\n",
       "      <td>27.000000</td>\n",
       "      <td>24.000000</td>\n",
       "      <td>8.000000</td>\n",
       "      <td>8.000000</td>\n",
       "      <td>8.000000</td>\n",
       "      <td>8.000000</td>\n",
       "      <td>8.000000</td>\n",
       "    </tr>\n",
       "    <tr>\n",
       "      <th>50%</th>\n",
       "      <td>232314.500000</td>\n",
       "      <td>25.000000</td>\n",
       "      <td>181.000000</td>\n",
       "      <td>75.000000</td>\n",
       "      <td>1.000000</td>\n",
       "      <td>66.000000</td>\n",
       "      <td>71.000000</td>\n",
       "      <td>6.500000e+05</td>\n",
       "      <td>3000.000000</td>\n",
       "      <td>1.000000</td>\n",
       "      <td>...</td>\n",
       "      <td>49.000000</td>\n",
       "      <td>59.000000</td>\n",
       "      <td>NaN</td>\n",
       "      <td>55.000000</td>\n",
       "      <td>52.000000</td>\n",
       "      <td>11.000000</td>\n",
       "      <td>11.000000</td>\n",
       "      <td>11.000000</td>\n",
       "      <td>11.000000</td>\n",
       "      <td>11.000000</td>\n",
       "    </tr>\n",
       "    <tr>\n",
       "      <th>75%</th>\n",
       "      <td>246760.250000</td>\n",
       "      <td>29.000000</td>\n",
       "      <td>186.000000</td>\n",
       "      <td>80.000000</td>\n",
       "      <td>1.000000</td>\n",
       "      <td>70.000000</td>\n",
       "      <td>75.000000</td>\n",
       "      <td>1.800000e+06</td>\n",
       "      <td>7000.000000</td>\n",
       "      <td>1.000000</td>\n",
       "      <td>...</td>\n",
       "      <td>60.000000</td>\n",
       "      <td>66.000000</td>\n",
       "      <td>NaN</td>\n",
       "      <td>65.000000</td>\n",
       "      <td>63.000000</td>\n",
       "      <td>14.000000</td>\n",
       "      <td>14.000000</td>\n",
       "      <td>14.000000</td>\n",
       "      <td>14.000000</td>\n",
       "      <td>14.000000</td>\n",
       "    </tr>\n",
       "    <tr>\n",
       "      <th>max</th>\n",
       "      <td>258970.000000</td>\n",
       "      <td>53.000000</td>\n",
       "      <td>206.000000</td>\n",
       "      <td>110.000000</td>\n",
       "      <td>4.000000</td>\n",
       "      <td>93.000000</td>\n",
       "      <td>95.000000</td>\n",
       "      <td>1.055000e+08</td>\n",
       "      <td>560000.000000</td>\n",
       "      <td>5.000000</td>\n",
       "      <td>...</td>\n",
       "      <td>92.000000</td>\n",
       "      <td>96.000000</td>\n",
       "      <td>NaN</td>\n",
       "      <td>93.000000</td>\n",
       "      <td>90.000000</td>\n",
       "      <td>90.000000</td>\n",
       "      <td>92.000000</td>\n",
       "      <td>93.000000</td>\n",
       "      <td>91.000000</td>\n",
       "      <td>90.000000</td>\n",
       "    </tr>\n",
       "  </tbody>\n",
       "</table>\n",
       "<p>8 rows × 62 columns</p>\n",
       "</div>"
      ],
      "text/plain": [
       "           sofifa_id           age     height_cm     weight_kg   league_rank  \\\n",
       "count   18944.000000  18944.000000  18944.000000  18944.000000  18719.000000   \n",
       "mean   226242.402872     25.225823    181.190773     75.016892      1.357070   \n",
       "std     27171.091056      4.697354      6.825672      7.057140      0.739327   \n",
       "min        41.000000     16.000000    155.000000     50.000000      1.000000   \n",
       "25%    210030.500000     21.000000    176.000000     70.000000      1.000000   \n",
       "50%    232314.500000     25.000000    181.000000     75.000000      1.000000   \n",
       "75%    246760.250000     29.000000    186.000000     80.000000      1.000000   \n",
       "max    258970.000000     53.000000    206.000000    110.000000      4.000000   \n",
       "\n",
       "            overall     potential     value_eur       wage_eur  \\\n",
       "count  18944.000000  18944.000000  1.894400e+04   18944.000000   \n",
       "mean      65.677787     71.086729  2.224813e+06    8675.852513   \n",
       "std        7.002278      6.109985  5.102486e+06   19654.774894   \n",
       "min       47.000000     47.000000  0.000000e+00       0.000000   \n",
       "25%       61.000000     67.000000  3.000000e+05    1000.000000   \n",
       "50%       66.000000     71.000000  6.500000e+05    3000.000000   \n",
       "75%       70.000000     75.000000  1.800000e+06    7000.000000   \n",
       "max       93.000000     95.000000  1.055000e+08  560000.000000   \n",
       "\n",
       "       international_reputation  ...  mentality_penalties  \\\n",
       "count              18944.000000  ...         18944.000000   \n",
       "mean                   1.091850  ...            48.050412   \n",
       "std                    0.361841  ...            15.671721   \n",
       "min                    1.000000  ...             6.000000   \n",
       "25%                    1.000000  ...            38.750000   \n",
       "50%                    1.000000  ...            49.000000   \n",
       "75%                    1.000000  ...            60.000000   \n",
       "max                    5.000000  ...            92.000000   \n",
       "\n",
       "       mentality_composure  defending_marking  defending_standing_tackle  \\\n",
       "count         18944.000000                0.0               18944.000000   \n",
       "mean             57.978674                NaN                  47.581767   \n",
       "std              12.118390                NaN                  21.402461   \n",
       "min              12.000000                NaN                   5.000000   \n",
       "25%              50.000000                NaN                  27.000000   \n",
       "50%              59.000000                NaN                  55.000000   \n",
       "75%              66.000000                NaN                  65.000000   \n",
       "max              96.000000                NaN                  93.000000   \n",
       "\n",
       "       defending_sliding_tackle  goalkeeping_diving  goalkeeping_handling  \\\n",
       "count              18944.000000        18944.000000          18944.000000   \n",
       "mean                  45.546505           16.446052             16.236486   \n",
       "std                   20.953997           17.577332             16.845480   \n",
       "min                    4.000000            1.000000              1.000000   \n",
       "25%                   24.000000            8.000000              8.000000   \n",
       "50%                   52.000000           11.000000             11.000000   \n",
       "75%                   63.000000           14.000000             14.000000   \n",
       "max                   90.000000           90.000000             92.000000   \n",
       "\n",
       "       goalkeeping_kicking  goalkeeping_positioning  goalkeeping_reflexes  \n",
       "count         18944.000000             18944.000000          18944.000000  \n",
       "mean             16.103357                16.225982             16.551309  \n",
       "std              16.519399                17.017341             17.878121  \n",
       "min               1.000000                 1.000000              1.000000  \n",
       "25%               8.000000                 8.000000              8.000000  \n",
       "50%              11.000000                11.000000             11.000000  \n",
       "75%              14.000000                14.000000             14.000000  \n",
       "max              93.000000                91.000000             90.000000  \n",
       "\n",
       "[8 rows x 62 columns]"
      ]
     },
     "execution_count": 14,
     "metadata": {},
     "output_type": "execute_result"
    }
   ],
   "source": [
    "df.describe()"
   ]
  },
  {
   "cell_type": "code",
   "execution_count": 15,
   "metadata": {
    "colab": {
     "base_uri": "https://localhost:8080/"
    },
    "executionInfo": {
     "elapsed": 19,
     "status": "ok",
     "timestamp": 1755143102891,
     "user": {
      "displayName": "VARUN S",
      "userId": "07484574055160433843"
     },
     "user_tz": -330
    },
    "id": "vEAmeI7lf-1a",
    "outputId": "bc9a2df3-e5b1-420c-ca45-ff1e201fa60f"
   },
   "outputs": [
    {
     "data": {
      "text/plain": [
       "162"
      ]
     },
     "execution_count": 15,
     "metadata": {},
     "output_type": "execute_result"
    }
   ],
   "source": [
    "df['nationality'].nunique()"
   ]
  },
  {
   "cell_type": "code",
   "execution_count": 16,
   "metadata": {
    "colab": {
     "base_uri": "https://localhost:8080/"
    },
    "executionInfo": {
     "elapsed": 9,
     "status": "ok",
     "timestamp": 1755143102903,
     "user": {
      "displayName": "VARUN S",
      "userId": "07484574055160433843"
     },
     "user_tz": -330
    },
    "id": "MbCOu4RugnnW",
    "outputId": "745d3b48-65f3-44a0-ed1f-a8b7cbe8ccef"
   },
   "outputs": [
    {
     "data": {
      "text/plain": [
       "162"
      ]
     },
     "execution_count": 16,
     "metadata": {},
     "output_type": "execute_result"
    }
   ],
   "source": [
    "df['nationality'].nunique()"
   ]
  },
  {
   "cell_type": "code",
   "execution_count": 17,
   "metadata": {
    "colab": {
     "base_uri": "https://localhost:8080/",
     "height": 115
    },
    "executionInfo": {
     "elapsed": 75,
     "status": "ok",
     "timestamp": 1755143102981,
     "user": {
      "displayName": "VARUN S",
      "userId": "07484574055160433843"
     },
     "user_tz": -330
    },
    "id": "31veHZ5fgy9h",
    "outputId": "bc83a21c-3d84-435a-e5b7-3fcd59907e3a"
   },
   "outputs": [
    {
     "data": {
      "text/plain": [
       "0    England\n",
       "Name: nationality, dtype: object"
      ]
     },
     "execution_count": 17,
     "metadata": {},
     "output_type": "execute_result"
    }
   ],
   "source": [
    "df['nationality'].mode()"
   ]
  },
  {
   "cell_type": "code",
   "execution_count": 18,
   "metadata": {
    "colab": {
     "base_uri": "https://localhost:8080/"
    },
    "executionInfo": {
     "elapsed": 24,
     "status": "ok",
     "timestamp": 1755143102987,
     "user": {
      "displayName": "VARUN S",
      "userId": "07484574055160433843"
     },
     "user_tz": -330
    },
    "id": "LdpsG2c0hjs3",
    "outputId": "b433a39f-d19f-4fb2-a718-83477f1b2ea9"
   },
   "outputs": [
    {
     "data": {
      "text/plain": [
       "93"
      ]
     },
     "execution_count": 18,
     "metadata": {},
     "output_type": "execute_result"
    }
   ],
   "source": [
    "df['overall'].max()"
   ]
  },
  {
   "cell_type": "markdown",
   "metadata": {
    "id": "ppN_Os8roBV4"
   },
   "source": [
    "TASK-2"
   ]
  },
  {
   "cell_type": "code",
   "execution_count": 19,
   "metadata": {
    "colab": {
     "base_uri": "https://localhost:8080/",
     "height": 455
    },
    "executionInfo": {
     "elapsed": 18,
     "status": "ok",
     "timestamp": 1755143102995,
     "user": {
      "displayName": "VARUN S",
      "userId": "07484574055160433843"
     },
     "user_tz": -330
    },
    "id": "y_85tfjzhw6-",
    "outputId": "3c259821-45b9-4c4d-d942-530f4d2b68b0"
   },
   "outputs": [
    {
     "data": {
      "image/png": "[encoded data removed]",
      "text/plain": [
       "<Figure size 640x480 with 1 Axes>"
      ]
     },
     "metadata": {},
     "output_type": "display_data"
    }
   ],
   "source": [
    "plt.hist(df['age'])\n",
    "plt.xlabel('age')\n",
    "plt.ylabel('count')\n",
    "plt.show()"
   ]
  },
  {
   "cell_type": "code",
   "execution_count": 20,
   "metadata": {
    "colab": {
     "base_uri": "https://localhost:8080/",
     "height": 429
    },
    "executionInfo": {
     "elapsed": 170,
     "status": "ok",
     "timestamp": 1755143103166,
     "user": {
      "displayName": "VARUN S",
      "userId": "07484574055160433843"
     },
     "user_tz": -330
    },
    "id": "ygcPXVC7iIrp",
    "outputId": "bc713a46-ca60-4ca8-8186-f0b307fb77b4"
   },
   "outputs": [
    {
     "data": {
      "text/plain": [
       "long_name\n",
       "Lionel Andrés Messi Cuccittini         93\n",
       "Cristiano Ronaldo dos Santos Aveiro    92\n",
       "Jan Oblak                              91\n",
       "Robert Lewandowski                     91\n",
       "Kevin De Bruyne                        91\n",
       "Neymar da Silva Santos Júnior          91\n",
       "Mohamed Salah Ghaly                    90\n",
       "Alisson Ramsés Becker                  90\n",
       "Marc-André ter Stegen                  90\n",
       "Virgil van Dijk                        90\n",
       "Name: overall, dtype: int64"
      ]
     },
     "execution_count": 20,
     "metadata": {},
     "output_type": "execute_result"
    }
   ],
   "source": [
    "df.groupby('long_name')['overall'].max().sort_values(ascending=False).head(10)"
   ]
  },
  {
   "cell_type": "markdown",
   "metadata": {
    "id": "qT43Aeenn5Bq"
   },
   "source": [
    "TASK-3"
   ]
  },
  {
   "cell_type": "code",
   "execution_count": 21,
   "metadata": {
    "colab": {
     "base_uri": "https://localhost:8080/"
    },
    "executionInfo": {
     "elapsed": 69,
     "status": "ok",
     "timestamp": 1755143103166,
     "user": {
      "displayName": "VARUN S",
      "userId": "07484574055160433843"
     },
     "user_tz": -330
    },
    "id": "FFMDxUT7iyef",
    "outputId": "2c66a44e-9eeb-4939-945f-4c55bb75758c"
   },
   "outputs": [
    {
     "name": "stdout",
     "output_type": "stream",
     "text": [
      "Mean Overall: 65.68\n",
      "Median Overall: 66.0\n",
      "Mode Overall: 65\n"
     ]
    }
   ],
   "source": [
    "mean_overall = df['overall'].mean()\n",
    "median_overall = df['overall'].median()\n",
    "mode_overall = df['overall'].mode()[0]\n",
    "\n",
    "print(f\"Mean Overall: {mean_overall:.2f}\")\n",
    "print(f\"Median Overall: {median_overall}\")\n",
    "print(f\"Mode Overall: {mode_overall}\")"
   ]
  },
  {
   "cell_type": "code",
   "execution_count": 22,
   "metadata": {
    "colab": {
     "base_uri": "https://localhost:8080/"
    },
    "executionInfo": {
     "elapsed": 58,
     "status": "ok",
     "timestamp": 1755143103167,
     "user": {
      "displayName": "VARUN S",
      "userId": "07484574055160433843"
     },
     "user_tz": -330
    },
    "id": "Yne8-MNWnMdY",
    "outputId": "3fb5c51f-d763-44cf-b2b2-fe28d64dc310"
   },
   "outputs": [
    {
     "name": "stdout",
     "output_type": "stream",
     "text": [
      "Variance Overall: 49.03\n",
      "Standard Deviation Overall: 7.00\n"
     ]
    }
   ],
   "source": [
    "variance_overall = df['overall'].var()\n",
    "std_overall = df['overall'].std()\n",
    "\n",
    "print(f\"Variance Overall: {variance_overall:.2f}\")\n",
    "print(f\"Standard Deviation Overall: {std_overall:.2f}\")"
   ]
  },
  {
   "cell_type": "code",
   "execution_count": 23,
   "metadata": {
    "colab": {
     "base_uri": "https://localhost:8080/"
    },
    "executionInfo": {
     "elapsed": 49,
     "status": "ok",
     "timestamp": 1755143103168,
     "user": {
      "displayName": "VARUN S",
      "userId": "07484574055160433843"
     },
     "user_tz": -330
    },
    "id": "YZNXeD6pnROo",
    "outputId": "fb913345-18aa-40d9-e887-04ced492479a"
   },
   "outputs": [
    {
     "name": "stdout",
     "output_type": "stream",
     "text": [
      "Correlation between Age and Overall: 0.468\n"
     ]
    }
   ],
   "source": [
    "correlation = df['age'].corr(df['overall'])\n",
    "print(f\"Correlation between Age and Overall: {correlation:.3f}\")"
   ]
  },
  {
   "cell_type": "code",
   "execution_count": 24,
   "metadata": {
    "colab": {
     "base_uri": "https://localhost:8080/"
    },
    "executionInfo": {
     "elapsed": 38,
     "status": "ok",
     "timestamp": 1755143103169,
     "user": {
      "displayName": "VARUN S",
      "userId": "07484574055160433843"
     },
     "user_tz": -330
    },
    "id": "fJVTEOHOnR4y",
    "outputId": "abd8fb9f-6c0b-4b28-d538-d5e98795d721"
   },
   "outputs": [
    {
     "name": "stdout",
     "output_type": "stream",
     "text": [
      "Percentage of Players with Potential > 85: 1.37%\n"
     ]
    }
   ],
   "source": [
    "percentage_high_potential = (df['potential'] > 85).mean() * 100\n",
    "print(f\"Percentage of Players with Potential > 85: {percentage_high_potential:.2f}%\")"
   ]
  },
  {
   "cell_type": "markdown",
   "metadata": {
    "id": "6IUv5Y4Gn1aR"
   },
   "source": [
    "TASK-4"
   ]
  },
  {
   "cell_type": "code",
   "execution_count": 25,
   "metadata": {
    "colab": {
     "base_uri": "https://localhost:8080/"
    },
    "executionInfo": {
     "elapsed": 28,
     "status": "ok",
     "timestamp": 1755143103170,
     "user": {
      "displayName": "VARUN S",
      "userId": "07484574055160433843"
     },
     "user_tz": -330
    },
    "id": "EU9lwqdgnXAX",
    "outputId": "d73a447d-bef7-4914-93dc-27ed15763ea2"
   },
   "outputs": [
    {
     "name": "stdout",
     "output_type": "stream",
     "text": [
      "Overall Array: [93 92 91 91 91]\n",
      "Potential Array: [93 92 93 91 91]\n"
     ]
    }
   ],
   "source": [
    "overall = np.array(df['overall'])\n",
    "potential = np.array(df['potential'])\n",
    "\n",
    "print(\"Overall Array:\", overall[:5])\n",
    "print(\"Potential Array:\", potential[:5])"
   ]
  },
  {
   "cell_type": "code",
   "execution_count": 26,
   "metadata": {
    "colab": {
     "base_uri": "https://localhost:8080/"
    },
    "executionInfo": {
     "elapsed": 19,
     "status": "ok",
     "timestamp": 1755143103171,
     "user": {
      "displayName": "VARUN S",
      "userId": "07484574055160433843"
     },
     "user_tz": -330
    },
    "id": "OkqZldhUnq07",
    "outputId": "2f36586a-581c-4b87-d712-51feb79bbcda"
   },
   "outputs": [
    {
     "name": "stdout",
     "output_type": "stream",
     "text": [
      "Difference (Potential - Overall): [0 0 2 0 0]\n"
     ]
    }
   ],
   "source": [
    "diff = potential - overall\n",
    "print(\"Difference (Potential - Overall):\", diff[:5])"
   ]
  },
  {
   "cell_type": "code",
   "execution_count": 27,
   "metadata": {
    "colab": {
     "base_uri": "https://localhost:8080/"
    },
    "executionInfo": {
     "elapsed": 20,
     "status": "ok",
     "timestamp": 1755143103182,
     "user": {
      "displayName": "VARUN S",
      "userId": "07484574055160433843"
     },
     "user_tz": -330
    },
    "id": "9FA-8JcznttJ",
    "outputId": "9f2b69ef-6f9b-4a02-9ac6-beaa3a1e1c66"
   },
   "outputs": [
    {
     "name": "stdout",
     "output_type": "stream",
     "text": [
      "Difference (Potential - Overall): [0 0 2 0 0]\n"
     ]
    }
   ],
   "source": [
    "diff = potential - overall\n",
    "print(\"Difference (Potential - Overall):\", diff[:5])"
   ]
  },
  {
   "cell_type": "code",
   "execution_count": 28,
   "metadata": {
    "colab": {
     "base_uri": "https://localhost:8080/"
    },
    "executionInfo": {
     "elapsed": 13,
     "status": "ok",
     "timestamp": 1755143103195,
     "user": {
      "displayName": "VARUN S",
      "userId": "07484574055160433843"
     },
     "user_tz": -330
    },
    "id": "XsK-ITKXnwTg",
    "outputId": "d4afd0c0-9a0d-425c-d7ab-7605e5762073"
   },
   "outputs": [
    {
     "name": "stdout",
     "output_type": "stream",
     "text": [
      "Normalized Overall: [0.01022997 0.01011997 0.01000997 0.01000997 0.01000997]\n"
     ]
    }
   ],
   "source": [
    "norm_overall = overall / np.linalg.norm(overall)\n",
    "print(\"Normalized Overall:\", norm_overall[:5])"
   ]
  },
  {
   "cell_type": "markdown",
   "metadata": {
    "id": "hy7sLywDoQmK"
   },
   "source": [
    "TASK-5"
   ]
  },
  {
   "cell_type": "code",
   "execution_count": 29,
   "metadata": {
    "colab": {
     "base_uri": "https://localhost:8080/"
    },
    "executionInfo": {
     "elapsed": 11,
     "status": "ok",
     "timestamp": 1755143103257,
     "user": {
      "displayName": "VARUN S",
      "userId": "07484574055160433843"
     },
     "user_tz": -330
    },
    "id": "wtlF_hwBnyMT",
    "outputId": "f4731f0e-9bd0-490d-8194-98af6d5161de"
   },
   "outputs": [
    {
     "name": "stdout",
     "output_type": "stream",
     "text": [
      "2*overall\n"
     ]
    }
   ],
   "source": [
    "import sympy as sp\n",
    "\n",
    "overall, potential = sp.symbols('overall potential')\n",
    "Performance_Score = overall**2 + 0.5 * potential\n",
    "derivative = sp.diff(Performance_Score, overall)\n",
    "print(derivative)"
   ]
  },
  {
   "cell_type": "markdown",
   "metadata": {
    "id": "hEP1k46aobHI"
   },
   "source": [
    "TASK-6"
   ]
  },
  {
   "cell_type": "code",
   "execution_count": 30,
   "metadata": {
    "colab": {
     "base_uri": "https://localhost:8080/"
    },
    "executionInfo": {
     "elapsed": 11,
     "status": "ok",
     "timestamp": 1755143103271,
     "user": {
      "displayName": "VARUN S",
      "userId": "07484574055160433843"
     },
     "user_tz": -330
    },
    "id": "1B3sKLkEoUIA",
    "outputId": "09120ac7-3ee5-411a-d794-517ca02bae92"
   },
   "outputs": [
    {
     "name": "stdout",
     "output_type": "stream",
     "text": [
      "          short_name  overall  is_elite\n",
      "0           L. Messi       93         1\n",
      "1  Cristiano Ronaldo       92         1\n",
      "2           J. Oblak       91         1\n",
      "3     R. Lewandowski       91         1\n",
      "4          Neymar Jr       91         1\n"
     ]
    }
   ],
   "source": [
    "df['is_elite'] = (df['overall'] >= 85).astype(int)\n",
    "print(df[['short_name', 'overall', 'is_elite']].head())"
   ]
  },
  {
   "cell_type": "code",
   "execution_count": 31,
   "metadata": {
    "colab": {
     "base_uri": "https://localhost:8080/"
    },
    "executionInfo": {
     "elapsed": 10,
     "status": "ok",
     "timestamp": 1755143103284,
     "user": {
      "displayName": "VARUN S",
      "userId": "07484574055160433843"
     },
     "user_tz": -330
    },
    "id": "LndOKx2apFCj",
    "outputId": "1373f2e1-ea6e-450b-dd94-14b079ac261e"
   },
   "outputs": [
    {
     "name": "stdout",
     "output_type": "stream",
     "text": [
      "          short_name  value_million\n",
      "0           L. Messi           67.5\n",
      "1  Cristiano Ronaldo           46.0\n",
      "2           J. Oblak           75.0\n",
      "3     R. Lewandowski           80.0\n",
      "4          Neymar Jr           90.0\n"
     ]
    }
   ],
   "source": [
    "df['value_million'] = df['value_eur'] / 1_000_000\n",
    "print(df[['short_name', 'value_million']].head())"
   ]
  },
  {
   "cell_type": "code",
   "execution_count": 32,
   "metadata": {
    "colab": {
     "base_uri": "https://localhost:8080/"
    },
    "executionInfo": {
     "elapsed": 10,
     "status": "ok",
     "timestamp": 1755143103296,
     "user": {
      "displayName": "VARUN S",
      "userId": "07484574055160433843"
     },
     "user_tz": -330
    },
    "id": "lo-NLm9ZpPa7",
    "outputId": "726cb9c2-01bc-4597-b795-19e2b0e4f0f2"
   },
   "outputs": [
    {
     "name": "stdout",
     "output_type": "stream",
     "text": [
      "          short_name  wage_thousand\n",
      "0           L. Messi          560.0\n",
      "1  Cristiano Ronaldo          220.0\n",
      "2           J. Oblak          125.0\n",
      "3     R. Lewandowski          240.0\n",
      "4          Neymar Jr          270.0\n"
     ]
    }
   ],
   "source": [
    "df['wage_thousand'] = df['wage_eur'] / 1_000\n",
    "print(df[['short_name', 'wage_thousand']].head())"
   ]
  },
  {
   "cell_type": "code",
   "execution_count": 33,
   "metadata": {
    "colab": {
     "base_uri": "https://localhost:8080/"
    },
    "executionInfo": {
     "elapsed": 13,
     "status": "ok",
     "timestamp": 1755143103308,
     "user": {
      "displayName": "VARUN S",
      "userId": "07484574055160433843"
     },
     "user_tz": -330
    },
    "id": "gER5Zc8hpSoX",
    "outputId": "5f8e69ed-0ddd-49e3-e982-d8a292995d58"
   },
   "outputs": [
    {
     "name": "stdout",
     "output_type": "stream",
     "text": [
      "          short_name  overall  potential  growth  high_growth\n",
      "0           L. Messi       93         93       0            0\n",
      "1  Cristiano Ronaldo       92         92       0            0\n",
      "2           J. Oblak       91         93       2            0\n",
      "3     R. Lewandowski       91         91       0            0\n",
      "4          Neymar Jr       91         91       0            0\n"
     ]
    }
   ],
   "source": [
    "df['growth'] = df['potential'] - df['overall']\n",
    "df['high_growth'] = (df['growth'] > 5).astype(int)\n",
    "print(df[['short_name', 'overall', 'potential', 'growth', 'high_growth']].head())"
   ]
  },
  {
   "cell_type": "code",
   "execution_count": 34,
   "metadata": {
    "colab": {
     "base_uri": "https://localhost:8080/"
    },
    "executionInfo": {
     "elapsed": 9,
     "status": "ok",
     "timestamp": 1755143103421,
     "user": {
      "displayName": "VARUN S",
      "userId": "07484574055160433843"
     },
     "user_tz": -330
    },
    "id": "zaQKDgfppWEs",
    "outputId": "f953b14a-578a-4d03-ea9d-3dc6b79a57e9"
   },
   "outputs": [
    {
     "name": "stdout",
     "output_type": "stream",
     "text": [
      "          short_name player_positions primary_position\n",
      "0           L. Messi       RW, ST, CF               RW\n",
      "1  Cristiano Ronaldo           ST, LW               ST\n",
      "2           J. Oblak               GK               GK\n",
      "3     R. Lewandowski               ST               ST\n",
      "4          Neymar Jr          LW, CAM               LW\n"
     ]
    }
   ],
   "source": [
    "df['primary_position'] = df['player_positions'].str.split(',').str[0].str.strip()\n",
    "print(df[['short_name', 'player_positions', 'primary_position']].head())"
   ]
  },
  {
   "cell_type": "markdown",
   "metadata": {
    "id": "OBAsO1RGpZvk"
   },
   "source": [
    "TASK-7"
   ]
  },
  {
   "cell_type": "code",
   "execution_count": 35,
   "metadata": {
    "colab": {
     "base_uri": "https://localhost:8080/"
    },
    "executionInfo": {
     "elapsed": 12,
     "status": "ok",
     "timestamp": 1755143103436,
     "user": {
      "displayName": "VARUN S",
      "userId": "07484574055160433843"
     },
     "user_tz": -330
    },
    "id": "smRCXsoNpZbj",
    "outputId": "748720fd-f9d7-4133-c401-0f7d94dd3446"
   },
   "outputs": [
    {
     "name": "stdout",
     "output_type": "stream",
     "text": [
      "    sofifa_id                                         player_url  \\\n",
      "0      158023  https://sofifa.com/player/158023/lionel-messi/...   \n",
      "1       20801  https://sofifa.com/player/20801/c-ronaldo-dos-...   \n",
      "2      200389  https://sofifa.com/player/200389/jan-oblak/210002   \n",
      "3      188545  https://sofifa.com/player/188545/robert-lewand...   \n",
      "4      190871  https://sofifa.com/player/190871/neymar-da-sil...   \n",
      "..        ...                                                ...   \n",
      "57     189332  https://sofifa.com/player/189332/jordi-alba-ra...   \n",
      "58     189596  https://sofifa.com/player/189596/thomas-muller...   \n",
      "59     193080  https://sofifa.com/player/193080/david-de-gea-...   \n",
      "60     204963  https://sofifa.com/player/204963/daniel-carvaj...   \n",
      "61     208830  https://sofifa.com/player/208830/jamie-vardy/2...   \n",
      "\n",
      "           short_name                            long_name  age         dob  \\\n",
      "0            L. Messi       Lionel Andrés Messi Cuccittini   33  1987-06-24   \n",
      "1   Cristiano Ronaldo  Cristiano Ronaldo dos Santos Aveiro   35  1985-02-05   \n",
      "2            J. Oblak                            Jan Oblak   27  1993-01-07   \n",
      "3      R. Lewandowski                   Robert Lewandowski   31  1988-08-21   \n",
      "4           Neymar Jr        Neymar da Silva Santos Júnior   28  1992-02-05   \n",
      "..                ...                                  ...  ...         ...   \n",
      "57         Jordi Alba                     Jordi Alba Ramos   31  1989-03-21   \n",
      "58          T. Müller                        Thomas Müller   30  1989-09-13   \n",
      "59             De Gea                David De Gea Quintana   29  1990-11-07   \n",
      "60           Carvajal                Daniel Carvajal Ramos   28  1992-01-11   \n",
      "61           J. Vardy                          Jamie Vardy   33  1987-01-11   \n",
      "\n",
      "    height_cm  weight_kg nationality            club_name  ...   lcb    cb  \\\n",
      "0         170         72   Argentina         FC Barcelona  ...  52+3  52+3   \n",
      "1         187         83    Portugal             Juventus  ...  54+3  54+3   \n",
      "2         188         87    Slovenia      Atlético Madrid  ...  33+3  33+3   \n",
      "3         184         80      Poland    FC Bayern München  ...  60+3  60+3   \n",
      "4         175         68      Brazil  Paris Saint-Germain  ...  49+3  49+3   \n",
      "..        ...        ...         ...                  ...  ...   ...   ...   \n",
      "57        170         68       Spain         FC Barcelona  ...  77+3  77+3   \n",
      "58        186         75     Germany    FC Bayern München  ...  63+3  63+3   \n",
      "59        192         82       Spain    Manchester United  ...  34+3  34+3   \n",
      "60        173         73       Spain          Real Madrid  ...  81+3  81+3   \n",
      "61        179         74     England       Leicester City  ...  64+3  64+3   \n",
      "\n",
      "     rcb    rb  is_elite  value_million wage_thousand growth  high_growth  \\\n",
      "0   52+3  62+3         1           67.5         560.0      0            0   \n",
      "1   54+3  61+3         1           46.0         220.0      0            0   \n",
      "2   33+3  32+3         1           75.0         125.0      2            0   \n",
      "3   60+3  61+3         1           80.0         240.0      0            0   \n",
      "4   49+3  62+3         1           90.0         270.0      0            0   \n",
      "..   ...   ...       ...            ...           ...    ...          ...   \n",
      "57  77+3  82+3         1           32.0         220.0      0            0   \n",
      "58  63+3  69+3         1           42.0         130.0      0            0   \n",
      "59  34+3  35+3         1           31.5         150.0      0            0   \n",
      "60  81+3  83+3         1           38.0         230.0      0            0   \n",
      "61  64+3  67+3         1           28.0         160.0      0            0   \n",
      "\n",
      "    primary_position  \n",
      "0                 RW  \n",
      "1                 ST  \n",
      "2                 GK  \n",
      "3                 ST  \n",
      "4                 LW  \n",
      "..               ...  \n",
      "57                LB  \n",
      "58               CAM  \n",
      "59                GK  \n",
      "60                RB  \n",
      "61                ST  \n",
      "\n",
      "[62 rows x 112 columns]\n"
     ]
    }
   ],
   "source": [
    "elite_players = df[df['overall'] > 85]\n",
    "print(elite_players)"
   ]
  },
  {
   "cell_type": "code",
   "execution_count": 36,
   "metadata": {
    "colab": {
     "base_uri": "https://localhost:8080/"
    },
    "executionInfo": {
     "elapsed": 15,
     "status": "ok",
     "timestamp": 1755143103456,
     "user": {
      "displayName": "VARUN S",
      "userId": "07484574055160433843"
     },
     "user_tz": -330
    },
    "id": "7xqCCbK-plv2",
    "outputId": "f922c7f7-b84c-4618-ac95-ce2eb995b162"
   },
   "outputs": [
    {
     "name": "stdout",
     "output_type": "stream",
     "text": [
      "      sofifa_id                                         player_url  \\\n",
      "6        231747  https://sofifa.com/player/231747/kylian-mbappe...   \n",
      "4        190871  https://sofifa.com/player/190871/neymar-da-sil...   \n",
      "5        192985  https://sofifa.com/player/192985/kevin-de-bruy...   \n",
      "3        188545  https://sofifa.com/player/188545/robert-lewand...   \n",
      "11       209331  https://sofifa.com/player/209331/mohamed-salah...   \n",
      "...         ...                                                ...   \n",
      "3801     251693  https://sofifa.com/player/251693/anthony-alfar...   \n",
      "3623     202746  https://sofifa.com/player/202746/thulani-serer...   \n",
      "3677     214294  https://sofifa.com/player/214294/esteban-pavez...   \n",
      "3664     211592  https://sofifa.com/player/211592/andrey-semeno...   \n",
      "5243     213106  https://sofifa.com/player/213106/runar-mar-sig...   \n",
      "\n",
      "           short_name                      long_name  age         dob  \\\n",
      "6           K. Mbappé           Kylian Mbappé Lottin   21  1998-12-20   \n",
      "4           Neymar Jr  Neymar da Silva Santos Júnior   28  1992-02-05   \n",
      "5        K. De Bruyne                Kevin De Bruyne   29  1991-06-28   \n",
      "3      R. Lewandowski             Robert Lewandowski   31  1988-08-21   \n",
      "11           M. Salah            Mohamed Salah Ghaly   28  1992-06-15   \n",
      "...               ...                            ...  ...         ...   \n",
      "3801      A. Alfárnez               Anthony Alfárnez   35  1985-04-07   \n",
      "3623        T. Serero          Thulani Caleeb Serero   30  1990-04-11   \n",
      "3677         E. Pavez     Esteban Andres Pavez Suazo   30  1990-05-01   \n",
      "3664       A. Semenov                 Andrey Semenov   31  1989-03-24   \n",
      "5243  R. Sigurjónsson         Rúnar Már Sigurjónsson   30  1990-06-18   \n",
      "\n",
      "      height_cm  weight_kg   nationality            club_name  ...   lcb  \\\n",
      "6           178         73        France  Paris Saint-Germain  ...  55+3   \n",
      "4           175         68        Brazil  Paris Saint-Germain  ...  49+3   \n",
      "5           181         70       Belgium      Manchester City  ...  69+3   \n",
      "3           184         80        Poland    FC Bayern München  ...  60+3   \n",
      "11          175         71         Egypt            Liverpool  ...  58+3   \n",
      "...         ...        ...           ...                  ...  ...   ...   \n",
      "3801        182         78       Ecuador                  NaN  ...  47+2   \n",
      "3623        172         68  South Africa                  NaN  ...  64+2   \n",
      "3677        180         76         Chile                  NaN  ...  72+0   \n",
      "3664        190         86        Russia                  NaN  ...  72+0   \n",
      "5243        178         83       Iceland                  NaN  ...  61+2   \n",
      "\n",
      "        cb   rcb    rb  is_elite  value_million wage_thousand growth  \\\n",
      "6     55+3  55+3  63+3         1          105.5         160.0      5   \n",
      "4     49+3  49+3  62+3         1           90.0         270.0      0   \n",
      "5     69+3  69+3  75+3         1           87.0         370.0      0   \n",
      "3     60+3  60+3  61+3         1           80.0         240.0      0   \n",
      "11    58+3  58+3  67+3         1           78.0         250.0      0   \n",
      "...    ...   ...   ...       ...            ...           ...    ...   \n",
      "3801  47+2  47+2  51+2         0            0.0           0.0      0   \n",
      "3623  64+2  64+2  69+2         0            0.0           0.0      0   \n",
      "3677  72+0  72+0  71+1         0            0.0           0.0      0   \n",
      "3664  72+0  72+0  69+2         0            0.0           0.0      0   \n",
      "5243  61+2  61+2  62+2         0            0.0           0.0      0   \n",
      "\n",
      "      high_growth  primary_position  \n",
      "6               0                ST  \n",
      "4               0                LW  \n",
      "5               0               CAM  \n",
      "3               0                ST  \n",
      "11              0                RW  \n",
      "...           ...               ...  \n",
      "3801            0                ST  \n",
      "3623            0                CM  \n",
      "3677            0                CM  \n",
      "3664            0                CB  \n",
      "5243            0                CM  \n",
      "\n",
      "[18944 rows x 112 columns]\n"
     ]
    }
   ],
   "source": [
    "sorted_players = df.sort_values(by='value_eur', ascending=False)\n",
    "print(sorted_players)"
   ]
  },
  {
   "cell_type": "code",
   "execution_count": 37,
   "metadata": {
    "colab": {
     "base_uri": "https://localhost:8080/"
    },
    "executionInfo": {
     "elapsed": 14,
     "status": "ok",
     "timestamp": 1755143103475,
     "user": {
      "displayName": "VARUN S",
      "userId": "07484574055160433843"
     },
     "user_tz": -330
    },
    "id": "8pGBmJCipoFU",
    "outputId": "fd59c35b-ddd5-4142-9827-3fb08007f559"
   },
   "outputs": [
    {
     "name": "stdout",
     "output_type": "stream",
     "text": [
      "nationality\n",
      "Afghanistan      2\n",
      "Albania         49\n",
      "Algeria         52\n",
      "Andorra          1\n",
      "Angola          16\n",
      "              ... \n",
      "Uzbekistan       7\n",
      "Venezuela      198\n",
      "Wales          124\n",
      "Zambia          11\n",
      "Zimbabwe        11\n",
      "Name: short_name, Length: 162, dtype: int64\n"
     ]
    }
   ],
   "source": [
    "nationality_counts = df.groupby('nationality')['short_name'].count()\n",
    "print(nationality_counts)"
   ]
  },
  {
   "cell_type": "code",
   "execution_count": 38,
   "metadata": {
    "colab": {
     "base_uri": "https://localhost:8080/"
    },
    "executionInfo": {
     "elapsed": 12,
     "status": "ok",
     "timestamp": 1755143103491,
     "user": {
      "displayName": "VARUN S",
      "userId": "07484574055160433843"
     },
     "user_tz": -330
    },
    "id": "wDhai0R_pqPV",
    "outputId": "5b2dfd43-dd81-421e-927a-a3a838d35a0b"
   },
   "outputs": [
    {
     "name": "stdout",
     "output_type": "stream",
     "text": [
      "club_name\n",
      "FC Bayern München    81.045455\n",
      "Real Madrid          79.250000\n",
      "Chelsea              79.212121\n",
      "FC Barcelona         78.909091\n",
      "Liverpool            78.575758\n",
      "Name: overall, dtype: float64\n"
     ]
    }
   ],
   "source": [
    "top_clubs = df.groupby('club_name')['overall'].mean().sort_values(ascending=False).head(5)\n",
    "print(top_clubs)"
   ]
  },
  {
   "cell_type": "code",
   "execution_count": 39,
   "metadata": {
    "colab": {
     "base_uri": "https://localhost:8080/"
    },
    "executionInfo": {
     "elapsed": 12,
     "status": "ok",
     "timestamp": 1755143103560,
     "user": {
      "displayName": "VARUN S",
      "userId": "07484574055160433843"
     },
     "user_tz": -330
    },
    "id": "7gw7Zv0gpsRY",
    "outputId": "208426df-8db0-4889-ffcf-cd76eadc30d8"
   },
   "outputs": [
    {
     "name": "stdout",
     "output_type": "stream",
     "text": [
      "0\n"
     ]
    }
   ],
   "source": [
    "forward_count = df['player_positions'].str.contains('Forward', case=False, na=False).sum()\n",
    "print(forward_count)"
   ]
  },
  {
   "cell_type": "markdown",
   "metadata": {
    "id": "nTFRnQdspvYF"
   },
   "source": [
    "TASK-8"
   ]
  },
  {
   "cell_type": "code",
   "execution_count": 40,
   "metadata": {
    "colab": {
     "base_uri": "https://localhost:8080/"
    },
    "executionInfo": {
     "elapsed": 12,
     "status": "ok",
     "timestamp": 1755143103577,
     "user": {
      "displayName": "VARUN S",
      "userId": "07484574055160433843"
     },
     "user_tz": -330
    },
    "id": "sfqjdrmbpwdD",
    "outputId": "f069ef2e-e1c0-4f8f-a1e1-9735bcf77225"
   },
   "outputs": [
    {
     "name": "stdout",
     "output_type": "stream",
     "text": [
      "short_name    K. Mbappé\n",
      "value_eur     105500000\n",
      "Name: 6, dtype: object\n"
     ]
    }
   ],
   "source": [
    "highest_value_player = df.loc[df['value_eur'].idxmax(), ['short_name', 'value_eur']]\n",
    "print(highest_value_player)"
   ]
  },
  {
   "cell_type": "code",
   "execution_count": 41,
   "metadata": {
    "colab": {
     "base_uri": "https://localhost:8080/"
    },
    "executionInfo": {
     "elapsed": 67,
     "status": "ok",
     "timestamp": 1755143103642,
     "user": {
      "displayName": "VARUN S",
      "userId": "07484574055160433843"
     },
     "user_tz": -330
    },
    "id": "EVvPGDD1p5hk",
    "outputId": "704e6611-7b64-45d2-f0e1-d9247700f30a"
   },
   "outputs": [
    {
     "name": "stdout",
     "output_type": "stream",
     "text": [
      "FC Bayern München\n"
     ]
    }
   ],
   "source": [
    "best_club = df.groupby('club_name')['overall'].mean().idxmax()\n",
    "print(best_club)"
   ]
  },
  {
   "cell_type": "code",
   "execution_count": 42,
   "metadata": {
    "colab": {
     "base_uri": "https://localhost:8080/"
    },
    "executionInfo": {
     "elapsed": 36,
     "status": "ok",
     "timestamp": 1755143103681,
     "user": {
      "displayName": "VARUN S",
      "userId": "07484574055160433843"
     },
     "user_tz": -330
    },
    "id": "HtyFyt_Xp7Jp",
    "outputId": "af02dbc8-9ddb-441c-b62e-9d3f9555dd25"
   },
   "outputs": [
    {
     "name": "stdout",
     "output_type": "stream",
     "text": [
      "England\n"
     ]
    }
   ],
   "source": [
    "top_nationality = df['nationality'].value_counts().idxmax()\n",
    "print(top_nationality)"
   ]
  },
  {
   "cell_type": "code",
   "execution_count": 43,
   "metadata": {
    "colab": {
     "base_uri": "https://localhost:8080/"
    },
    "executionInfo": {
     "elapsed": 22,
     "status": "ok",
     "timestamp": 1755143103708,
     "user": {
      "displayName": "VARUN S",
      "userId": "07484574055160433843"
     },
     "user_tz": -330
    },
    "id": "Abd9ndoRp8_p",
    "outputId": "9880c4b2-d33d-46f1-905e-6040532eb452"
   },
   "outputs": [
    {
     "name": "stdout",
     "output_type": "stream",
     "text": [
      "0.6363662070314471\n"
     ]
    }
   ],
   "source": [
    "correlation_po = df['potential'].corr(df['overall'])\n",
    "print(correlation_po)"
   ]
  },
  {
   "cell_type": "code",
   "execution_count": 44,
   "metadata": {
    "colab": {
     "base_uri": "https://localhost:8080/"
    },
    "executionInfo": {
     "elapsed": 15,
     "status": "ok",
     "timestamp": 1755143103712,
     "user": {
      "displayName": "VARUN S",
      "userId": "07484574055160433843"
     },
     "user_tz": -330
    },
    "id": "H0SCn767p-uU",
    "outputId": "5623a4d6-69c4-47a3-98a9-96ea56f408f0"
   },
   "outputs": [
    {
     "name": "stdout",
     "output_type": "stream",
     "text": [
      "0.5225929054054055\n"
     ]
    }
   ],
   "source": [
    "elite_percentage = (df['overall'] >= 85).mean() * 100\n",
    "print(elite_percentage)"
   ]
  }
 ],
 "metadata": {
  "colab": {
   "authorship_tag": "ABX9TyPjh4KLFjUWrmpGaTXbI6JI",
   "provenance": []
  },
  "kernelspec": {
   "display_name": "base",
   "language": "python",
   "name": "python3"
  },
  "language_info": {
   "codemirror_mode": {
    "name": "ipython",
    "version": 3
   },
   "file_extension": ".py",
   "mimetype": "text/x-python",
   "name": "python",
   "nbconvert_exporter": "python",
   "pygments_lexer": "ipython3",
   "version": "3.13.5"
  }
 },
 "nbformat": 4,
 "nbformat_minor": 0
}
